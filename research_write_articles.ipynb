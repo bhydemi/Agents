{
 "cells": [
  {
   "cell_type": "code",
   "execution_count": 71,
   "metadata": {},
   "outputs": [],
   "source": [
    "import warnings\n",
    "warnings.filterwarnings('ignore')"
   ]
  },
  {
   "cell_type": "code",
   "execution_count": 72,
   "metadata": {},
   "outputs": [],
   "source": [
    "from crewai import Agent, Task, Crew\n",
    "from dotenv import load_dotenv, find_dotenv\n",
    "import os\n",
    "from os.path import join, dirname\n"
   ]
  },
  {
   "cell_type": "code",
   "execution_count": 73,
   "metadata": {},
   "outputs": [],
   "source": [
    "load_dotenv(find_dotenv())\n",
    "os.environ['OPENAI_MODEL_NAME'] = 'gpt-3.5-turbo'\n"
   ]
  },
  {
   "cell_type": "code",
   "execution_count": 74,
   "metadata": {},
   "outputs": [
    {
     "data": {
      "text/plain": [
       "'/Users/abdulhakeemoyaqoob/Agents/Agents'"
      ]
     },
     "execution_count": 74,
     "metadata": {},
     "output_type": "execute_result"
    }
   ],
   "source": [
    "pwd"
   ]
  },
  {
   "cell_type": "code",
   "execution_count": 75,
   "metadata": {},
   "outputs": [],
   "source": [
    "planner = Agent(\n",
    "    role='Content Planner',\n",
    "    goal='Plan engaging and factually accurate content on {topic}',\n",
    "    backstory=\"You are working on planning a blog article\"\n",
    "            \"about the {topic}. You collect information that helps the audience learn something and make informed decisions.\"\n",
    "            \"Your work is the basis for the content writer to write an article on this topic\",\n",
    "    allow_delegation=False,\n",
    "    verbose=True\n",
    ")\n",
    "\n",
    "writer = Agent(\n",
    "    role=\"Content Writer\",\n",
    "    goal=\"Write insightful and factually accurate \"\n",
    "         \"opinion piece about the topic: {topic}\",\n",
    "    backstory=\"You're working on a writing \"\n",
    "              \"a new opinion piece about the topic: {topic}. \"\n",
    "              \"You base your writing on the work of \"\n",
    "              \"the Content Planner, who provides an outline \"\n",
    "              \"and relevant context about the topic. \"\n",
    "              \"You follow the main objectives and \"\n",
    "              \"direction of the outline, \"\n",
    "              \"as provide by the Content Planner. \"\n",
    "              \"You also provide objective and impartial insights \"\n",
    "              \"and back them up with information \"\n",
    "              \"provide by the Content Planner. \"\n",
    "              \"You acknowledge in your opinion piece \"\n",
    "              \"when your statements are opinions \"\n",
    "              \"as opposed to objective statements.\",\n",
    "    allow_delegation=False,\n",
    "    verbose=True\n",
    ")\n",
    "\n",
    "editor = Agent(\n",
    "    role=\"Editor\",\n",
    "    goal=\"Edit a given blog post to align with \"\n",
    "         \"the writing style of the organization. \",\n",
    "    backstory=\"You are an editor who receives a blog post \"\n",
    "              \"from the Content Writer. \"\n",
    "              \"Your goal is to review the blog post \"\n",
    "              \"to ensure that it follows journalistic best practices,\"\n",
    "              \"provides balanced viewpoints \"\n",
    "              \"when providing opinions or assertions, \"\n",
    "              \"and also avoids major controversial topics \"\n",
    "              \"or opinions when possible.\",\n",
    "    allow_delegation=False,\n",
    "    verbose=True\n",
    ")"
   ]
  },
  {
   "cell_type": "code",
   "execution_count": 76,
   "metadata": {},
   "outputs": [],
   "source": [
    "plan = Task(\n",
    "    description=(\n",
    "        \"1. Prioritize the latest trends, key players, \"\n",
    "            \"and noteworthy news on {topic}.\\n\"\n",
    "        \"2. Identify the target audience, considering \"\n",
    "            \"their interests and pain points.\\n\"\n",
    "        \"3. Develop a detailed content outline including \"\n",
    "            \"an introduction, key points, and a call to action.\\n\"\n",
    "        \"4. Include SEO keywords and relevant data or sources.\"\n",
    "    ),\n",
    "    expected_output=\"with an outline, audience analysis, \"\n",
    "    \"SEO keywords, and resources.\",\n",
    "    agent=planner,\n",
    ")"
   ]
  },
  {
   "cell_type": "code",
   "execution_count": 77,
   "metadata": {},
   "outputs": [],
   "source": [
    "write = Task(\n",
    "    description=(\n",
    "        \"1. Use the content plan to craft a compelling \"\n",
    "            \"blog post on {topic}.\\n\"\n",
    "        \"2. Incorporate SEO keywords naturally.\\n\"\n",
    "\t\t\"3. Sections/Subtitles are properly named \"\n",
    "            \"in an engaging manner.\\n\"\n",
    "        \"4. Ensure the post is structured with an \"\n",
    "            \"engaging introduction, insightful body, \"\n",
    "            \"and a summarizing conclusion.\\n\"\n",
    "        \"5. Proofread for grammatical errors and \"\n",
    "            \"alignment with the brand's voice.\\n\"\n",
    "    ),\n",
    "    expected_output=\"A well-written blog post \"\n",
    "        \"in markdown format, ready for publication, \"\n",
    "        \"each section should have 2 or 3 paragraphs.\",\n",
    "    agent=writer,\n",
    ")"
   ]
  },
  {
   "cell_type": "code",
   "execution_count": 78,
   "metadata": {},
   "outputs": [],
   "source": [
    "edit = Task(\n",
    "    description=(\"Proofread the given blog post for \"\n",
    "                 \"grammatical errors and \"\n",
    "                 \"alignment with the brand's voice.\"),\n",
    "    expected_output=\"A well-written blog post in markdown format, \"\n",
    "                    \"ready for publication, \"\n",
    "                    \"each section should have 2 or 3 paragraphs.\",\n",
    "    agent=editor\n",
    ")"
   ]
  },
  {
   "cell_type": "code",
   "execution_count": 79,
   "metadata": {},
   "outputs": [
    {
     "name": "stderr",
     "output_type": "stream",
     "text": [
      "2024-10-31 20:21:52,415 - 8442236736 - __init__.py-__init__:538 - WARNING: Overriding of current TracerProvider is not allowed\n"
     ]
    }
   ],
   "source": [
    "crew = Crew(\n",
    "    agents=[planner, writer, editor],\n",
    "    tasks=[plan, write, edit],\n",
    "    verbose=True\n",
    ")"
   ]
  },
  {
   "cell_type": "code",
   "execution_count": 80,
   "metadata": {},
   "outputs": [
    {
     "name": "stdout",
     "output_type": "stream",
     "text": [
      "\u001b[1m\u001b[95m# Agent:\u001b[00m \u001b[1m\u001b[92mContent Planner\u001b[00m\n",
      "\u001b[95m## Task:\u001b[00m \u001b[92m1. Prioritize the latest trends, key players, and noteworthy news on Artificial Intelligence.\n",
      "2. Identify the target audience, considering their interests and pain points.\n",
      "3. Develop a detailed content outline including an introduction, key points, and a call to action.\n",
      "4. Include SEO keywords and relevant data or sources.\u001b[00m\n",
      "\n",
      "\n",
      "\u001b[1m\u001b[95m# Agent:\u001b[00m \u001b[1m\u001b[92mContent Planner\u001b[00m\n",
      "\u001b[95m## Final Answer:\u001b[00m \u001b[92m\n",
      "Title: Unraveling the World of Artificial Intelligence: Trends, Key Players, and What's Next\n",
      "\n",
      "Outline:\n",
      "I. Introduction\n",
      "    A. Brief overview of Artificial Intelligence (AI)\n",
      "    B. Importance of staying updated on latest trends and key players in AI\n",
      "II. Latest Trends in Artificial Intelligence\n",
      "    A. Machine Learning advancements\n",
      "    B. Natural Language Processing developments\n",
      "    C. AI in healthcare and smart cities\n",
      "III. Key Players in the AI Industry\n",
      "    A. Google Brain\n",
      "    B. OpenAI\n",
      "    C. IBM Watson\n",
      "IV. Noteworthy News in Artificial Intelligence\n",
      "    A. Recent breakthroughs in AI technology\n",
      "    B. Impact of AI on various industries\n",
      "V. Target Audience Analysis\n",
      "    A. Professionals in tech and AI industries\n",
      "    B. Students and researchers interested in AI\n",
      "    C. Business owners looking to implement AI solutions\n",
      "    D. General audience curious about AI advancements\n",
      "VI. SEO Keywords: Artificial Intelligence trends, key players in AI, AI industry news, latest AI developments\n",
      "VII. Resources:\n",
      "    A. Articles from reputable sources such as Forbes, Wired, and TechCrunch\n",
      "    B. Reports from industry research firms like Gartner and IDC\n",
      "    C. Official websites and blogs of AI companies like Google Brain and OpenAI\n",
      "\n",
      "Content:\n",
      "Artificial Intelligence (AI) continues to be at the forefront of technological advancements, shaping the future of various industries. Staying informed about the latest trends, key players, and noteworthy news in the AI landscape is crucial for professionals and enthusiasts alike.\n",
      "\n",
      "Latest Trends in Artificial Intelligence:\n",
      "Machine Learning continues to evolve, enabling AI systems to learn and improve from data without explicit programming. Natural Language Processing advancements have led to significant breakthroughs in language understanding and generation. Moreover, AI's applications in healthcare and smart cities are transforming how we approach medical diagnosis and urban planning.\n",
      "\n",
      "Key Players in the AI Industry:\n",
      "Leading the AI revolution are companies like Google Brain, known for its pioneering research in deep learning. OpenAI, founded with a mission to ensure artificial general intelligence benefits all of humanity, is another significant player in the field. IBM Watson, with its cognitive computing capabilities, is driving innovation across industries.\n",
      "\n",
      "Noteworthy News in Artificial Intelligence:\n",
      "Recent developments in AI technology, such as the use of AI for drug discovery or optimizing energy consumption, are reshaping industries. The impact of AI on areas like finance, transportation, and customer service underscores its transformative power.\n",
      "\n",
      "Target Audience Analysis:\n",
      "This content caters to professionals in the tech and AI industries, students and researchers looking to expand their knowledge in AI, business owners seeking to implement AI solutions, and the general audience curious about AI advancements.\n",
      "\n",
      "Stay updated on Artificial Intelligence trends, explore key players in the AI industry, and delve into the latest AI industry news to remain at the forefront of this rapidly evolving field.\n",
      "\n",
      "Remember to utilize resources such as articles from reputable sources like Forbes and Wired, reports from industry research firms like Gartner, and official websites of AI companies to deepen your understanding of Artificial Intelligence.\u001b[00m\n",
      "\n",
      "\n",
      "\u001b[1m\u001b[95m# Agent:\u001b[00m \u001b[1m\u001b[92mContent Writer\u001b[00m\n",
      "\u001b[95m## Task:\u001b[00m \u001b[92m1. Use the content plan to craft a compelling blog post on Artificial Intelligence.\n",
      "2. Incorporate SEO keywords naturally.\n",
      "3. Sections/Subtitles are properly named in an engaging manner.\n",
      "4. Ensure the post is structured with an engaging introduction, insightful body, and a summarizing conclusion.\n",
      "5. Proofread for grammatical errors and alignment with the brand's voice.\n",
      "\u001b[00m\n",
      "\n",
      "\n",
      "\u001b[1m\u001b[95m# Agent:\u001b[00m \u001b[1m\u001b[92mContent Writer\u001b[00m\n",
      "\u001b[95m## Final Answer:\u001b[00m \u001b[92m\n",
      "# Unraveling the World of Artificial Intelligence: Trends, Key Players, and What's Next\n",
      "\n",
      "## Introduction\n",
      "Artificial Intelligence (AI) stands as a cornerstone in the technological realm, revolutionizing multiple sectors. Keeping abreast of the latest trends, major players, and pivotal news within the AI sphere is paramount for both professionals and enthusiasts.\n",
      "\n",
      "## Latest Trends in Artificial Intelligence\n",
      "The continuous progress in Machine Learning is propelling AI systems to grasp and enhance data without explicit programming, fostering autonomous learning. Advancements in Natural Language Processing have fostered breakthroughs in language comprehension and generation, reshaping communication paradigms. Furthermore, AI's integration in healthcare and smart cities is reshaping medical diagnostics and urban development strategies at a fundamental level.\n",
      "\n",
      "## Key Players in the AI Industry\n",
      "Driving the AI landscape are influential entities like Google Brain, noted for its groundbreaking research in deep learning domains. OpenAI, established with a mission for the universal benefits of artificial general intelligence, stands as another critical contributor. IBM Watson, renowned for its cognitive computing prowess, is spearheading innovation across various sectors with its advanced capabilities.\n",
      "\n",
      "## Noteworthy News in Artificial Intelligence\n",
      "Recent AI advancements, such as deploying AI for drug discovery and optimizing energy consumption, are swiftly altering industry landscapes, underscoring the transformative potential ingrained in AI technologies. The significant impacts of AI in fields like finance, transportation, and customer service spotlight the revolutionary significance of AI implementations.\n",
      "\n",
      "## Target Audience Analysis\n",
      "This content serves professionals within the tech and AI sectors, students and researchers aiming to expand their AI knowledge base, business owners eyeing AI integrations, and the general populace intrigued by AI's progressive trends. To navigate the dynamic AI domain effectively, staying abreast of trends, exploring key players, and engaging with the latest AI news is indispensable.\n",
      "\n",
      "Stay informed on Artificial Intelligence trends, explore the pivotal players operating within the AI industry, and immerse yourself in the latest developments to maintain a leading edge in this swiftly evolving landscape. Utilize reputable sources like Forbes and Wired, reports from industry authorities such as Gartner, and official platforms of key AI enterprises to enrich your understanding of Artificial Intelligence.\u001b[00m\n",
      "\n",
      "\n",
      "\u001b[1m\u001b[95m# Agent:\u001b[00m \u001b[1m\u001b[92mEditor\u001b[00m\n",
      "\u001b[95m## Task:\u001b[00m \u001b[92mProofread the given blog post for grammatical errors and alignment with the brand's voice.\u001b[00m\n",
      "\n",
      "\n",
      "\u001b[1m\u001b[95m# Agent:\u001b[00m \u001b[1m\u001b[92mEditor\u001b[00m\n",
      "\u001b[95m## Final Answer:\u001b[00m \u001b[92m\n",
      "# Unraveling the World of Artificial Intelligence: Trends, Key Players, and What's Next\n",
      "\n",
      "## Introduction\n",
      "Artificial Intelligence (AI) plays a pivotal role in the tech world, transforming various industries. Staying updated on the latest trends, key players, and recent developments in AI is crucial for professionals and enthusiasts alike.\n",
      "\n",
      "## Latest Trends in Artificial Intelligence\n",
      "The advancements in Machine Learning are driving AI systems towards autonomous learning, enabling them to extract insights from data without explicit programming. Progress in Natural Language Processing is revolutionizing communication by enhancing language comprehension and generation. Moreover, the integration of AI in healthcare and smart cities is revolutionizing medical diagnostics and urban planning.\n",
      "\n",
      "## Key Players in the AI Industry\n",
      "Leading the AI landscape are influential organizations such as Google Brain, known for its innovative research in deep learning. OpenAI, focused on the universal benefits of artificial general intelligence, is another key player in the field. IBM Watson, with its cognitive computing capabilities, is pushing boundaries and driving innovation across various sectors.\n",
      "\n",
      "## Noteworthy News in Artificial Intelligence\n",
      "Recent AI breakthroughs, like using AI for drug discovery and optimizing energy consumption, are reshaping industries rapidly, highlighting the transformative power of AI technologies. The profound impact of AI in sectors like finance, transportation, and customer service underscores the importance of AI implementations.\n",
      "\n",
      "## Target Audience Analysis\n",
      "This content caters to tech and AI professionals, students, researchers looking to expand their AI knowledge, business owners interested in AI integration, and the general public curious about AI advancements. To navigate the dynamic AI landscape effectively, it is essential to stay updated on trends, understand key players, and engage with the latest AI news.\n",
      "\n",
      "Keeping yourself informed about Artificial Intelligence trends, exploring the significant players in the AI industry, and staying updated on the latest developments will give you a competitive edge in this rapidly evolving field. Utilize credible sources like Forbes, Wired, insights from industry leaders such as Gartner, and official platforms of major AI companies to deepen your knowledge of Artificial Intelligence.\u001b[00m\n",
      "\n",
      "\n"
     ]
    }
   ],
   "source": [
    "result = crew.kickoff(inputs={\"topic\": \"Artificial Intelligence\"})"
   ]
  }
 ],
 "metadata": {
  "kernelspec": {
   "display_name": "base",
   "language": "python",
   "name": "python3"
  },
  "language_info": {
   "codemirror_mode": {
    "name": "ipython",
    "version": 3
   },
   "file_extension": ".py",
   "mimetype": "text/x-python",
   "name": "python",
   "nbconvert_exporter": "python",
   "pygments_lexer": "ipython3",
   "version": "3.12.1"
  }
 },
 "nbformat": 4,
 "nbformat_minor": 2
}
